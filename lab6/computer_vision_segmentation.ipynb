{
 "cells": [
  {
   "cell_type": "markdown",
   "id": "1df35965",
   "metadata": {},
   "source": [
    "# Компьютерное зрение: задача сегментации\n",
    "\n",
    "**Автор**: Винник Екатерина Петровна, 22.М04"
   ]
  },
  {
   "cell_type": "markdown",
   "id": "e9a2f284",
   "metadata": {},
   "source": [
    "## Задача\n",
    "\n",
    "Обучаем Сегментацию:\n",
    "- https://colab.research.google.com/drive/1eUIOnLFB_9_6CJ3dVZxY9TV_gCqDAmaV?authuser=1#scrollTo=SjKfL5X_RbzH --- тут мы обучали на большом датасете одну эпоху.\n",
    "- https://drive.google.com/file/d/11wp4Bm-hEVwmZq8GmqbLpKpJiqvDSNAe/view?usp=sharing --- тут лежит датасет который мы будем использовать.\n",
    "\n",
    "Мы хотим обучить наш unet на небольшом датасете. Нужно заполнить репорт и сделать выводы.\n",
    "Чтобы успеть сделать много экспериментов нужна видеокарта. Можно использовать colab, тут есть бесплатные gpu ресурсы --- так будет быстрее.\n",
    "\n",
    "\n",
    "- [ ] Сделать train/test split (или кросс-валидацию), зафиксировать все сиды чтобы более-менее воспроизводились результаты. Добавить метрику **jaccard index**. Переобучиться на одном батче (например 4 картинки), попробовать получить почти идеальное качество, посмотреть получилось или нет. Посчитать метрики для батча и для теста. Обучить на всем train, построить train/val кривые для loss и для **jaccard index**, подобрать оптимальное время обучения (количество шагов) для фиксированных параметров. Визуализировать topN самых плохих предсказаний.\n",
    "- [ ] Попробовать улучшить качество не меняя архитектуру: аугментации, гиперпараметры. Сделать test time аугментации через horizontal flip, посмотреть улучшается ли что-то.\n",
    "- [ ] Попробовать улучшить качество изменяя архитектуру."
   ]
  },
  {
   "cell_type": "code",
   "execution_count": null,
   "id": "a9769fdc",
   "metadata": {},
   "outputs": [],
   "source": []
  }
 ],
 "metadata": {
  "kernelspec": {
   "display_name": "Python 3 (ipykernel)",
   "language": "python",
   "name": "python3"
  },
  "language_info": {
   "codemirror_mode": {
    "name": "ipython",
    "version": 3
   },
   "file_extension": ".py",
   "mimetype": "text/x-python",
   "name": "python",
   "nbconvert_exporter": "python",
   "pygments_lexer": "ipython3",
   "version": "3.10.8"
  }
 },
 "nbformat": 4,
 "nbformat_minor": 5
}
