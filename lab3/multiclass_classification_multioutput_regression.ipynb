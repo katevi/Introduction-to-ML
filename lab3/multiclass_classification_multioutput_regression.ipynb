{
 "cells": [
  {
   "cell_type": "markdown",
   "id": "431e1da6",
   "metadata": {},
   "source": [
    "### Многоклассовая классификация и множественная классификация/регрессия\n",
    "Винник Екатерина Петровна, 22.М04"
   ]
  },
  {
   "cell_type": "markdown",
   "id": "736da8ce",
   "metadata": {},
   "source": [
    "## Задача\n",
    "\n",
    "- [ ] Изучите [возможности sklearn](https://scikit-learn.org/stable/modules/multiclass.html#multiclass-classification) для решения задач **Multiclass classification**, **Multilabel classification** и **Multioutput Regression**. Основные компоненты библиотеки указаны на рисунке ниже.\n",
    "![multi_org_chart](https://scikit-learn.org/stable/_images/multi_org_chart.png)\n",
    "\n",
    "- [ ] Найдите данные, на которых можно решить задачу **Multiclass classification** (классификация с более чем двумя классами). В крайнем случае преобразуйте данные, предназначенные для другой задачи.\n",
    "- [ ] Выполнить разведочный анализ (**EDA**), использовать визуализацию, сделать выводы, которые могут быть полезны при дальнейшем решении задачи.\n",
    "- [ ] При необходимости выполнить полезные преобразования данных (например, трансформировать категариальные признаки в количественные), убрать ненужные признаки, создать новые (**Feature Engineering**).\n",
    "- [ ] Используя стратегии **OneVsRest**, **OneVsOne** и **OutputCode** решите задачу **Multiclass classification** для каждого из пройденных базового алгоритма классификации (**logistic regression, svm, knn, naive bayes, decision tree**). При обучении использовать **подбор гиперпараметров**, **кросс-валидацию** и при необходимости **масштабирование данных**, добиться наилучшего качества предсказания.\n",
    "- [ ] Замерить время обучения каждой модели для каждой стратегии.\n",
    "- [ ] Для оценки качества моделей используйте метрику **AUC-ROC**.\n",
    "- [ ] Сравнить время обучения и качество всех моделей и всех стратегий. Сделать выводы.\n",
    "- [ ] (**+3 балла**) Повторить все пункты для задачи **Multilabel classification** (классификация с несколькими целевыми признаками, например, бинарными). В качестве стратегий попробовать **MultiOutputClassifier** и **ClassifierChain**.\n",
    "- [ ] (**+2 балла**) Повторить все пункты для задачи **Multioutput Regression** (регрессия с несколькими целевыми признаками, вещественными). Модель попробовать как минимум одну: **Ridge**. В качестве стратегий попробовать **MultiOutputRegressor** и **RegressorChain**. В качестве метрики использовать **R2**."
   ]
  },
  {
   "cell_type": "code",
   "execution_count": null,
   "id": "a46d95e9",
   "metadata": {},
   "outputs": [],
   "source": []
  }
 ],
 "metadata": {
  "kernelspec": {
   "display_name": "Python 3 (ipykernel)",
   "language": "python",
   "name": "python3"
  },
  "language_info": {
   "codemirror_mode": {
    "name": "ipython",
    "version": 3
   },
   "file_extension": ".py",
   "mimetype": "text/x-python",
   "name": "python",
   "nbconvert_exporter": "python",
   "pygments_lexer": "ipython3",
   "version": "3.10.8"
  }
 },
 "nbformat": 4,
 "nbformat_minor": 5
}
